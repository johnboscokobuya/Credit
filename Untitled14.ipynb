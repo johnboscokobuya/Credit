{
  "nbformat": 4,
  "nbformat_minor": 0,
  "metadata": {
    "colab": {
      "name": "Untitled14.ipynb",
      "provenance": [],
      "authorship_tag": "ABX9TyNf8PdlTYeJqon3jJl7aHfD",
      "include_colab_link": true
    },
    "kernelspec": {
      "name": "python3",
      "display_name": "Python 3"
    },
    "language_info": {
      "name": "python"
    }
  },
  "cells": [
    {
      "cell_type": "markdown",
      "metadata": {
        "id": "view-in-github",
        "colab_type": "text"
      },
      "source": [
        "<a href=\"https://colab.research.google.com/github/johnboscokobuya/Credit/blob/main/Untitled14.ipynb\" target=\"_parent\"><img src=\"https://colab.research.google.com/assets/colab-badge.svg\" alt=\"Open In Colab\"/></a>"
      ]
    },
    {
      "cell_type": "code",
      "metadata": {
        "colab": {
          "base_uri": "https://localhost:8080/"
        },
        "id": "cHUCIZ5ksjMW",
        "outputId": "161d017a-699c-4e40-a31a-56f8e8c116e6"
      },
      "source": [
        "#! /usr/bin/python3.9\n",
        "price = input(\"Enter the house price: \")\n",
        "CreditScore = float(input(\"Enter the credit score: \"))\n",
        "first_name = input(\"Enter the first name: \")\n",
        "last_name = input(\"Enter the last name: \")\n",
        "fullnames = first_name + \" \" + last_name\n",
        "email = input(\"Enter the email address: \")\n",
        "phone = input(\"Enter the phone number: \")\n",
        "mailing = input(\"Enter the mailing address: \")\n",
        "city = input(\"Enter the City: \")\n",
        "zipcode = input(\"Enter the zip code: \")\n",
        "\n",
        "\n",
        "if CreditScore >= 780 and CreditScore <= 850:\n",
        "    print(\"Excent Credit\")\n",
        "    print(\"Zero Down Payment\")\n",
        "    credit_status = \"Excent Credit\"\n",
        "    downPayment = 0.0 * float(price)\n",
        "elif CreditScore >= 740 and CreditScore <= 779:\n",
        "    print(\"Very Good\")\n",
        "    downPayment = 0.2 * float(price)\n",
        "    credit_status = \"Very Good\"\n",
        "elif CreditScore >= 720 and CreditScore <= 739:\n",
        "    print(\"Above Average\")\n",
        "    downPayment = 0.3 * float(price)\n",
        "    credit_status = \"Above Average\"\n",
        "elif CreditScore >= 680 and CreditScore <=  719:\n",
        "    print(\"Average\")\n",
        "    downPayment = 0.6 *  float(price)\n",
        "    credit_status = \"Average\"\n",
        "elif CreditScore >= 620 and CreditScore <= 679:\n",
        "    print(\"Below Average\")\n",
        "    downPayment = 0.18 * float(price)\n",
        "    credit_status = \"Below Average\"\n",
        "elif CreditScore >= 580 and CreditScore <= 619:\n",
        "    print(\"Poor Credit Score\")\n",
        "    downPayment = 0.20 * float(price)\n",
        "    credit_status = \"Poor Credit Score\"\n",
        "elif CreditScore < 520:\n",
        "    print(\"Poor Credit Score\")\n",
        "    downPayment = 0.25 * float(price)\n",
        "    credit_status = \"Poor Credit Score\"\n",
        "else:\n",
        "    print(\"Poor Credit Score\")\n",
        "    credit_status = \"Poor Credit Score\"\n",
        "\n",
        "    downPayment = 'Not Applicable'\n",
        "    print(\"You do not qualify for any loan, try again after six months\")\n",
        "\n",
        "print(75*'=')\n",
        "print(25*' ', \"OUTPUT OF THE PROGRAM\")\n",
        "print(75*'=')\n",
        "print('First Name: {fullnames}'.format(fullnames=fullnames))\n",
        "print('Physical Address: {mailing}'.format(mailing=mailing))\n",
        "print('City: {city}: {zipcode}'.format(city=city, zipcode=zipcode))\n",
        "print('New House Price: {price}'.format(price=price))\n",
        "print('Down Payment: {downPayment}'.format(downPayment=downPayment))\n",
        "print('Credit Score: {CreditScore}'.format(CreditScore=CreditScore))\n",
        "print('Credit Status: {credit_status}'.format(credit_status=credit_status))\n",
        "print('CONGRATULATIONS - YOU NOW OWN YOUR DREAM HOME - {fullnames}'.format(fullnames=fullnames))\n",
        "print(50*'=')"
      ],
      "execution_count": 1,
      "outputs": [
        {
          "output_type": "stream",
          "text": [
            "Enter the house price: 200000\n",
            "Enter the credit score: 850\n",
            "Enter the first name: John \n",
            "Enter the last name: Bosco\n",
            "Enter the email address: bosco@gmail.com\n",
            "Enter the phone number: 0728418442\n",
            "Enter the mailing address: info@kenet.or.ke\n",
            "Enter the City: Mombasa\n",
            "Enter the zip code: 40305\n",
            "Excent Credit\n",
            "Zero Down Payment\n",
            "===========================================================================\n",
            "                          OUTPUT OF THE PROGRAM\n",
            "===========================================================================\n",
            "First Name: John  Bosco\n",
            "Physical Address: info@kenet.or.ke\n",
            "City: Mombasa: 40305\n",
            "New House Price: 200000\n",
            "Down Payment: 0.0\n",
            "Credit Score: 850.0\n",
            "Credit Status: Excent Credit\n",
            "CONGRATULATIONS - YOU NOW OWN YOUR DREAM HOME - John  Bosco\n",
            "==================================================\n"
          ],
          "name": "stdout"
        }
      ]
    }
  ]
}